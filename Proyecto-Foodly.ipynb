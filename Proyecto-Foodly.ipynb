{
 "cells": [
  {
   "cell_type": "markdown",
   "metadata": {},
   "source": [
    "# Proyecto Sprint 11"
   ]
  },
  {
   "cell_type": "markdown",
   "metadata": {},
   "source": [
    "## Abrir el archivo de datos y leer la información general"
   ]
  },
  {
   "cell_type": "code",
   "execution_count": 1,
   "metadata": {},
   "outputs": [
    {
     "name": "stdout",
     "output_type": "stream",
     "text": [
      "Requirement already satisfied: statsmodels in /opt/conda/envs/python3/lib/python3.9/site-packages (0.13.2)\n",
      "Requirement already satisfied: numpy>=1.17 in /opt/conda/envs/python3/lib/python3.9/site-packages (from statsmodels) (1.21.2)\n",
      "Requirement already satisfied: scipy>=1.3 in /opt/conda/envs/python3/lib/python3.9/site-packages (from statsmodels) (1.10.1)\n",
      "Requirement already satisfied: pandas>=0.25 in /opt/conda/envs/python3/lib/python3.9/site-packages (from statsmodels) (1.2.4)\n",
      "Requirement already satisfied: patsy>=0.5.2 in /opt/conda/envs/python3/lib/python3.9/site-packages (from statsmodels) (0.5.6)\n",
      "Requirement already satisfied: packaging>=21.3 in /opt/conda/envs/python3/lib/python3.9/site-packages (from statsmodels) (24.0)\n",
      "Requirement already satisfied: python-dateutil>=2.7.3 in /opt/conda/envs/python3/lib/python3.9/site-packages (from pandas>=0.25->statsmodels) (2.9.0)\n",
      "Requirement already satisfied: pytz>=2017.3 in /opt/conda/envs/python3/lib/python3.9/site-packages (from pandas>=0.25->statsmodels) (2024.1)\n",
      "Requirement already satisfied: six in /opt/conda/envs/python3/lib/python3.9/site-packages (from patsy>=0.5.2->statsmodels) (1.16.0)\n",
      "Note: you may need to restart the kernel to use updated packages.\n"
     ]
    }
   ],
   "source": [
    "pip install statsmodels"
   ]
  },
  {
   "cell_type": "code",
   "execution_count": 2,
   "metadata": {},
   "outputs": [],
   "source": [
    "# importar librerías\n",
    "import pandas as pd\n",
    "import numpy as np\n",
    "import matplotlib.pyplot as plt\n",
    "import seaborn as sns\n",
    "from scipy import stats\n",
    "from statsmodels.stats.proportion import proportions_ztest\n",
    "import statsmodels.api as sm"
   ]
  },
  {
   "cell_type": "code",
   "execution_count": 3,
   "metadata": {},
   "outputs": [],
   "source": [
    "# Leemos los conjuntos de datos en varios DataFrames\n",
    "event = pd.read_csv('/datasets/logs_exp_us.csv', delimiter = \"\\t\")"
   ]
  },
  {
   "cell_type": "markdown",
   "metadata": {},
   "source": [
    "## Preparar los datos para el análisis"
   ]
  },
  {
   "cell_type": "markdown",
   "metadata": {},
   "source": [
    "### DataFrame \"Event\""
   ]
  },
  {
   "cell_type": "markdown",
   "metadata": {},
   "source": [
    "**Estadística Descriptiva**"
   ]
  },
  {
   "cell_type": "code",
   "execution_count": 4,
   "metadata": {},
   "outputs": [
    {
     "name": "stdout",
     "output_type": "stream",
     "text": [
      "DATAFRAME EVENT\n",
      "                 EventName         DeviceIDHash  EventTimestamp  ExpId\n",
      "0         MainScreenAppear  4575588528974610257      1564029816    246\n",
      "1         MainScreenAppear  7416695313311560658      1564053102    246\n",
      "2  PaymentScreenSuccessful  3518123091307005509      1564054127    248\n",
      "3         CartScreenAppear  3518123091307005509      1564054127    248\n",
      "4  PaymentScreenSuccessful  6217807653094995999      1564055322    248\n",
      "----------------------------------------------------------------\n",
      "<class 'pandas.core.frame.DataFrame'>\n",
      "RangeIndex: 244126 entries, 0 to 244125\n",
      "Data columns (total 4 columns):\n",
      " #   Column          Non-Null Count   Dtype \n",
      "---  ------          --------------   ----- \n",
      " 0   EventName       244126 non-null  object\n",
      " 1   DeviceIDHash    244126 non-null  int64 \n",
      " 2   EventTimestamp  244126 non-null  int64 \n",
      " 3   ExpId           244126 non-null  int64 \n",
      "dtypes: int64(3), object(1)\n",
      "memory usage: 7.5+ MB\n",
      "None\n",
      "----------------------------------------------------------------\n",
      "       DeviceIDHash  EventTimestamp          ExpId\n",
      "count  2.441260e+05    2.441260e+05  244126.000000\n",
      "mean   4.627568e+18    1.564914e+09     247.022296\n",
      "std    2.642425e+18    1.771343e+05       0.824434\n",
      "min    6.888747e+15    1.564030e+09     246.000000\n",
      "25%    2.372212e+18    1.564757e+09     246.000000\n",
      "50%    4.623192e+18    1.564919e+09     247.000000\n",
      "75%    6.932517e+18    1.565075e+09     248.000000\n",
      "max    9.222603e+18    1.565213e+09     248.000000\n"
     ]
    }
   ],
   "source": [
    "# Imprimimos la estadística descriptiva del df \"EVENT\"\n",
    "print(\"DATAFRAME EVENT\")\n",
    "print(event.head())\n",
    "print(\"----------------------------------------------------------------\")\n",
    "print(event.info())\n",
    "print(\"----------------------------------------------------------------\")\n",
    "print(event.describe())"
   ]
  },
  {
   "cell_type": "markdown",
   "metadata": {},
   "source": [
    "**Cambio de nombre de las columnas**"
   ]
  },
  {
   "cell_type": "code",
   "execution_count": 5,
   "metadata": {},
   "outputs": [
    {
     "name": "stdout",
     "output_type": "stream",
     "text": [
      "                Event_Name            Device_ID        Date  Experiment_ID\n",
      "0         MainScreenAppear  4575588528974610257  1564029816            246\n",
      "1         MainScreenAppear  7416695313311560658  1564053102            246\n",
      "2  PaymentScreenSuccessful  3518123091307005509  1564054127            248\n",
      "3         CartScreenAppear  3518123091307005509  1564054127            248\n",
      "4  PaymentScreenSuccessful  6217807653094995999  1564055322            248\n"
     ]
    }
   ],
   "source": [
    "# Cambiamos el nombre de las columnas\n",
    "\n",
    "event = event.rename(columns={'EventName': 'Event_Name', 'DeviceIDHash':'Device_ID', 'EventTimestamp':'Date', 'ExpId':'Experiment_ID'})\n",
    "print(event.head())"
   ]
  },
  {
   "cell_type": "markdown",
   "metadata": {},
   "source": [
    "**Comprueba si hay tipos de datos y valores ausentes. Corrige los datos si es necesario**"
   ]
  },
  {
   "cell_type": "markdown",
   "metadata": {},
   "source": [
    "**Tipos de datos**"
   ]
  },
  {
   "cell_type": "code",
   "execution_count": 6,
   "metadata": {},
   "outputs": [
    {
     "name": "stdout",
     "output_type": "stream",
     "text": [
      "Event_Name       object\n",
      "Device_ID         int64\n",
      "Date              int64\n",
      "Experiment_ID     int64\n",
      "dtype: object\n"
     ]
    }
   ],
   "source": [
    "# Convierte los datos en los tipos necesarios\n",
    "# Primero inspeccionamos los tipos actuales\n",
    "print(event.dtypes)"
   ]
  },
  {
   "cell_type": "code",
   "execution_count": 7,
   "metadata": {},
   "outputs": [],
   "source": [
    "# Convertimos las columnas a sus tipos de datos correspondientes\n",
    "event['Event_Name'] = event['Event_Name'].astype('string')\n",
    "event['Date'] = pd.to_numeric(event['Date'], errors='coerce')\n",
    "event['Date'] = pd.to_datetime(event['Date'], unit='s')"
   ]
  },
  {
   "cell_type": "code",
   "execution_count": 8,
   "metadata": {},
   "outputs": [
    {
     "name": "stdout",
     "output_type": "stream",
     "text": [
      "Event_Name               string\n",
      "Device_ID                 int64\n",
      "Date             datetime64[ns]\n",
      "Experiment_ID             int64\n",
      "dtype: object\n"
     ]
    }
   ],
   "source": [
    "# Revisamos que los tipos de datos se hayan cambiado correctamente\n",
    "print(event.dtypes)"
   ]
  },
  {
   "cell_type": "markdown",
   "metadata": {},
   "source": [
    "**Datos Ausentes**"
   ]
  },
  {
   "cell_type": "code",
   "execution_count": 9,
   "metadata": {},
   "outputs": [
    {
     "name": "stdout",
     "output_type": "stream",
     "text": [
      "Event_Name       0\n",
      "Device_ID        0\n",
      "Date             0\n",
      "Experiment_ID    0\n",
      "dtype: int64\n"
     ]
    }
   ],
   "source": [
    "# Revisamos y eliminamos duplicados\n",
    "print(event.isnull().sum())"
   ]
  },
  {
   "cell_type": "markdown",
   "metadata": {},
   "source": [
    "No hay duplicados por lo que podemos comenzar con el análisis"
   ]
  },
  {
   "cell_type": "markdown",
   "metadata": {},
   "source": [
    "**Agrega una columna de fecha y hora y una columna separada para las fechas**"
   ]
  },
  {
   "cell_type": "code",
   "execution_count": 10,
   "metadata": {},
   "outputs": [
    {
     "name": "stdout",
     "output_type": "stream",
     "text": [
      "                     Event_Name            Device_ID  Experiment_ID  \\\n",
      "0              MainScreenAppear  4575588528974610257            246   \n",
      "1              MainScreenAppear  7416695313311560658            246   \n",
      "2       PaymentScreenSuccessful  3518123091307005509            248   \n",
      "3              CartScreenAppear  3518123091307005509            248   \n",
      "4       PaymentScreenSuccessful  6217807653094995999            248   \n",
      "...                         ...                  ...            ...   \n",
      "244121         MainScreenAppear  4599628364049201812            247   \n",
      "244122         MainScreenAppear  5849806612437486590            246   \n",
      "244123         MainScreenAppear  5746969938801999050            246   \n",
      "244124         MainScreenAppear  5746969938801999050            246   \n",
      "244125       OffersScreenAppear  5746969938801999050            246   \n",
      "\n",
      "                fecha_hora       fecha  \n",
      "0      2019-07-25 04:43:36  2019-07-25  \n",
      "1      2019-07-25 11:11:42  2019-07-25  \n",
      "2      2019-07-25 11:28:47  2019-07-25  \n",
      "3      2019-07-25 11:28:47  2019-07-25  \n",
      "4      2019-07-25 11:48:42  2019-07-25  \n",
      "...                    ...         ...  \n",
      "244121 2019-08-07 21:12:25  2019-08-07  \n",
      "244122 2019-08-07 21:13:59  2019-08-07  \n",
      "244123 2019-08-07 21:14:43  2019-08-07  \n",
      "244124 2019-08-07 21:14:58  2019-08-07  \n",
      "244125 2019-08-07 21:15:17  2019-08-07  \n",
      "\n",
      "[244126 rows x 5 columns]\n"
     ]
    }
   ],
   "source": [
    "# Agregar una columna de fecha y hora (ya convertida)\n",
    "event['fecha_hora'] = pd.to_datetime(event['Date'], unit='s')\n",
    "\n",
    "# Agregar una columna con solo la fecha\n",
    "event['fecha'] = event['fecha_hora'].dt.date\n",
    "\n",
    "# Eliminamos la columna Date puesto que se repite\n",
    "event = event.drop(columns=['Date'])\n",
    "\n",
    "# Ver los resultados\n",
    "print(event)"
   ]
  },
  {
   "cell_type": "markdown",
   "metadata": {},
   "source": [
    "## Estudiar y comprobar los datos"
   ]
  },
  {
   "cell_type": "markdown",
   "metadata": {},
   "source": [
    "Asegúrate de tener usuarios y usuarias de los tres grupos experimentales."
   ]
  },
  {
   "cell_type": "markdown",
   "metadata": {},
   "source": [
    "**¿Cuántos eventos hay en los registros?**"
   ]
  },
  {
   "cell_type": "code",
   "execution_count": 11,
   "metadata": {},
   "outputs": [
    {
     "name": "stdout",
     "output_type": "stream",
     "text": [
      "Total de eventos: 244126\n"
     ]
    }
   ],
   "source": [
    "# Contar el número total de eventos\n",
    "num_eventos = event.shape[0]\n",
    "print(f\"Total de eventos: {num_eventos}\")"
   ]
  },
  {
   "cell_type": "markdown",
   "metadata": {},
   "source": [
    "**¿Cuántos usuarios y usuarias hay en los registros?**"
   ]
  },
  {
   "cell_type": "code",
   "execution_count": 12,
   "metadata": {},
   "outputs": [
    {
     "name": "stdout",
     "output_type": "stream",
     "text": [
      "Total de usuarios: 7551\n"
     ]
    }
   ],
   "source": [
    "# Contar el número de usuarios únicos (Device_ID)\n",
    "num_usuarios = event['Device_ID'].nunique()\n",
    "print(f\"Total de usuarios: {num_usuarios}\")"
   ]
  },
  {
   "cell_type": "markdown",
   "metadata": {},
   "source": [
    "**¿Cuál es el promedio de eventos por usuario?**"
   ]
  },
  {
   "cell_type": "code",
   "execution_count": 13,
   "metadata": {},
   "outputs": [
    {
     "name": "stdout",
     "output_type": "stream",
     "text": [
      "Promedio de eventos por usuario: 32.33028737915508\n"
     ]
    }
   ],
   "source": [
    "# Contar el número de eventos por usuario\n",
    "eventos_por_usuario = event.groupby('Device_ID').size()\n",
    "\n",
    "# Calcular el promedio de eventos por usuario\n",
    "promedio_eventos_por_usuario = eventos_por_usuario.mean()\n",
    "print(f\"Promedio de eventos por usuario: {promedio_eventos_por_usuario}\")"
   ]
  },
  {
   "cell_type": "markdown",
   "metadata": {},
   "source": [
    "**¿Qué periodo de tiempo cubren los datos? Encuentra la fecha máxima y mínima.**"
   ]
  },
  {
   "cell_type": "code",
   "execution_count": 14,
   "metadata": {},
   "outputs": [
    {
     "name": "stdout",
     "output_type": "stream",
     "text": [
      "Fecha mínima: 2019-07-25 04:43:36\n",
      "Fecha máxima: 2019-08-07 21:15:17\n"
     ]
    }
   ],
   "source": [
    "# Asegurarse de que 'fecha_hora' esté en formato datetime\n",
    "event['fecha_hora'] = pd.to_datetime(event['fecha_hora'])\n",
    "\n",
    "# Obtener la fecha mínima y máxima\n",
    "fecha_minima = event['fecha_hora'].min()\n",
    "fecha_maxima = event['fecha_hora'].max()\n",
    "\n",
    "print(f\"Fecha mínima: {fecha_minima}\")\n",
    "print(f\"Fecha máxima: {fecha_maxima}\")"
   ]
  },
  {
   "cell_type": "markdown",
   "metadata": {},
   "source": [
    "**Traza un histograma por fecha y hora.**"
   ]
  },
  {
   "cell_type": "code",
   "execution_count": 15,
   "metadata": {},
   "outputs": [
    {
     "data": {
      "image/png": "[encoded data removed]",
      "text/plain": [
       "<Figure size 1000x600 with 1 Axes>"
      ]
     },
     "metadata": {},
     "output_type": "display_data"
    }
   ],
   "source": [
    "# Trazar histograma de eventos por fecha y hora\n",
    "plt.figure(figsize=(10, 6))\n",
    "plt.hist(event['fecha_hora'], bins=50, edgecolor='black')\n",
    "plt.title(\"Histograma de eventos por fecha y hora\")\n",
    "plt.xlabel(\"Fecha y hora\")\n",
    "plt.ylabel(\"Número de eventos\")\n",
    "plt.xticks(rotation=45)\n",
    "plt.tight_layout()\n",
    "plt.show()"
   ]
  },
  {
   "cell_type": "markdown",
   "metadata": {},
   "source": [
    "**¿Puedes tener seguridad de que tienes datos igualmente completos para todo el periodo?**"
   ]
  },
  {
   "cell_type": "code",
   "execution_count": 16,
   "metadata": {},
   "outputs": [
    {
     "name": "stdout",
     "output_type": "stream",
     "text": [
      "fecha\n",
      "2019-07-25        9\n",
      "2019-07-26       31\n",
      "2019-07-27       55\n",
      "2019-07-28      105\n",
      "2019-07-29      184\n",
      "2019-07-30      413\n",
      "2019-07-31     2031\n",
      "2019-08-01    36229\n",
      "2019-08-02    35606\n",
      "2019-08-03    33351\n",
      "2019-08-04    33033\n",
      "2019-08-05    36113\n",
      "2019-08-06    35822\n",
      "2019-08-07    31144\n",
      "dtype: int64\n"
     ]
    }
   ],
   "source": [
    "eventos_por_fecha = event.groupby('fecha').size()\n",
    "print(eventos_por_fecha)"
   ]
  },
  {
   "cell_type": "markdown",
   "metadata": {},
   "source": [
    "Derivado de este análisis puedo suponer que los datos no pueden estar del todo completos, debido a que en los priemeros días tengo pocos datos y en los últimos tengo la mayoría. Aunque esto es una supocición, se deberá analizar con mayor profundidad."
   ]
  },
  {
   "cell_type": "markdown",
   "metadata": {},
   "source": [
    "**Los eventos más antiguos podrían terminar en los registros de algunos usuarios o usuarias por razones técnicas y esto podría sesgar el panorama general. Encuentra el momento en el que los datos comienzan a estar completos e ignora la sección anterior. ¿Qué periodo representan realmente los datos?**"
   ]
  },
  {
   "cell_type": "markdown",
   "metadata": {},
   "source": [
    "# ¡¡AYUDA!!"
   ]
  },
  {
   "cell_type": "code",
   "execution_count": 17,
   "metadata": {},
   "outputs": [
    {
     "name": "stdout",
     "output_type": "stream",
     "text": [
      "Experiment_ID  246  247  248\n",
      "fecha_hora                  \n",
      "2019-07-25       4    1    4\n",
      "2019-07-26      14    8    9\n",
      "2019-07-27      24   23    8\n",
      "2019-07-28      33   36   36\n",
      "2019-07-29      55   58   71\n"
     ]
    }
   ],
   "source": [
    "# Agrupar por fecha y por grupo experimental\n",
    "eventos_por_fecha = event.groupby([event['fecha_hora'].dt.date, 'Experiment_ID']).size().unstack(fill_value=0)\n",
    "\n",
    "# Ver los primeros registros de eventos por fecha\n",
    "print(eventos_por_fecha.head())"
   ]
  },
  {
   "cell_type": "code",
   "execution_count": 18,
   "metadata": {},
   "outputs": [
    {
     "name": "stdout",
     "output_type": "stream",
     "text": [
      "No se encontraron días en los que todos los grupos estén representados.\n"
     ]
    }
   ],
   "source": [
    "# Verificar la cantidad de grupos experimentales\n",
    "num_grupos = len(event['Experiment_ID'].unique())\n",
    "\n",
    "# Encontrar los días en los que todos los grupos están presentes\n",
    "dias_completos = eventos_por_fecha[eventos_por_fecha.sum(axis=1) == num_grupos]\n",
    "\n",
    "# Verificar si hay días con todos los grupos\n",
    "if not dias_completos.empty:\n",
    "    # Si hay días completos, obtener el primer día completo\n",
    "    primer_dia_completo = dias_completos.index[0]\n",
    "    print(f\"Los datos comienzan a estar completos a partir del: {primer_dia_completo}\")\n",
    "else:\n",
    "    print(\"No se encontraron días en los que todos los grupos estén representados.\")"
   ]
  },
  {
   "cell_type": "markdown",
   "metadata": {},
   "source": [
    "**¿Perdiste muchos eventos y usuarios al excluir los datos más antiguos?**"
   ]
  },
  {
   "cell_type": "code",
   "execution_count": 19,
   "metadata": {},
   "outputs": [
    {
     "ename": "NameError",
     "evalue": "name 'primer_dia_completo' is not defined",
     "output_type": "error",
     "traceback": [
      "\u001b[0;31m---------------------------------------------------------------------------\u001b[0m",
      "\u001b[0;31mNameError\u001b[0m                                 Traceback (most recent call last)",
      "Cell \u001b[0;32mIn[19], line 2\u001b[0m\n\u001b[1;32m      1\u001b[0m \u001b[38;5;66;03m# Filtrar los datos después del primer día completo\u001b[39;00m\n\u001b[0;32m----> 2\u001b[0m eventos_completos \u001b[38;5;241m=\u001b[39m event[event[\u001b[38;5;124m'\u001b[39m\u001b[38;5;124mfecha\u001b[39m\u001b[38;5;124m'\u001b[39m] \u001b[38;5;241m>\u001b[39m\u001b[38;5;241m=\u001b[39m \u001b[43mprimer_dia_completo\u001b[49m]\n\u001b[1;32m      4\u001b[0m \u001b[38;5;66;03m# Contar el número de eventos y usuarios antes y después de excluir los datos más antiguos\u001b[39;00m\n\u001b[1;32m      5\u001b[0m eventos_perdidos \u001b[38;5;241m=\u001b[39m num_eventos \u001b[38;5;241m-\u001b[39m eventos_completos\u001b[38;5;241m.\u001b[39mshape[\u001b[38;5;241m0\u001b[39m]\n",
      "\u001b[0;31mNameError\u001b[0m: name 'primer_dia_completo' is not defined"
     ]
    }
   ],
   "source": [
    "# Filtrar los datos después del primer día completo\n",
    "eventos_completos = event[event['fecha'] >= primer_dia_completo]\n",
    "\n",
    "# Contar el número de eventos y usuarios antes y después de excluir los datos más antiguos\n",
    "eventos_perdidos = num_eventos - eventos_completos.shape[0]\n",
    "usuarios_perdidos = num_usuarios - eventos_completos['Device_ID'].nunique()\n",
    "\n",
    "print(f\"Eventos perdidos: {eventos_perdidos}\")\n",
    "print(f\"Usuarios perdidos: {usuarios_perdidos}\")"
   ]
  },
  {
   "cell_type": "markdown",
   "metadata": {},
   "source": [
    "## Estudiar el embudo de eventos"
   ]
  },
  {
   "cell_type": "markdown",
   "metadata": {},
   "source": [
    "**Observa qué eventos hay en los registros y su frecuencia de suceso. Ordénalos por frecuencia.**"
   ]
  },
  {
   "cell_type": "code",
   "execution_count": 20,
   "metadata": {},
   "outputs": [
    {
     "name": "stdout",
     "output_type": "stream",
     "text": [
      "MainScreenAppear           119205\n",
      "OffersScreenAppear          46825\n",
      "CartScreenAppear            42731\n",
      "PaymentScreenSuccessful     34313\n",
      "Tutorial                     1052\n",
      "Name: Event_Name, dtype: Int64\n"
     ]
    }
   ],
   "source": [
    "# Contar la frecuencia de cada evento\n",
    "frecuencia_eventos = event['Event_Name'].value_counts()\n",
    "\n",
    "# Mostrar la frecuencia de los eventos, ordenados de mayor a menor\n",
    "print(frecuencia_eventos)"
   ]
  },
  {
   "cell_type": "markdown",
   "metadata": {},
   "source": [
    "**Encuentra la cantidad de usuarios y usuarias que realizaron cada una de estas acciones. Ordena los eventos por el número de usuarios y usuarias. Calcula la proporción de usuarios y usuarias que realizaron la acción al menos una vez.**"
   ]
  },
  {
   "cell_type": "code",
   "execution_count": 21,
   "metadata": {},
   "outputs": [
    {
     "name": "stdout",
     "output_type": "stream",
     "text": [
      "Event_Name\n",
      "MainScreenAppear           7439\n",
      "OffersScreenAppear         4613\n",
      "CartScreenAppear           3749\n",
      "PaymentScreenSuccessful    3547\n",
      "Tutorial                    847\n",
      "Name: Device_ID, dtype: int64\n"
     ]
    }
   ],
   "source": [
    "# Contar la cantidad de usuarios únicos por evento\n",
    "usuarios_por_evento = event.groupby('Event_Name')['Device_ID'].nunique()\n",
    "\n",
    "# Ordenar los eventos por la cantidad de usuarios que realizaron cada uno\n",
    "usuarios_por_evento_ordenado = usuarios_por_evento.sort_values(ascending=False)\n",
    "\n",
    "print(usuarios_por_evento_ordenado)"
   ]
  },
  {
   "cell_type": "code",
   "execution_count": 22,
   "metadata": {},
   "outputs": [
    {
     "name": "stdout",
     "output_type": "stream",
     "text": [
      "Event_Name\n",
      "CartScreenAppear           0.496491\n",
      "MainScreenAppear           0.985168\n",
      "OffersScreenAppear         0.610912\n",
      "PaymentScreenSuccessful    0.469739\n",
      "Tutorial                   0.112171\n",
      "Name: Device_ID, dtype: float64\n"
     ]
    }
   ],
   "source": [
    "# Calcular la proporción de usuarios que realizaron cada evento al menos una vez\n",
    "proporcion_usuarios = usuarios_por_evento / num_usuarios\n",
    "\n",
    "# Mostrar la proporción de usuarios por evento\n",
    "print(proporcion_usuarios)"
   ]
  },
  {
   "cell_type": "markdown",
   "metadata": {},
   "source": [
    "**¿En qué orden crees que ocurrieron las acciones? ¿Todas son parte de una sola secuencia? No es necesario tenerlas en cuenta al calcular el embudo.**"
   ]
  },
  {
   "cell_type": "code",
   "execution_count": 23,
   "metadata": {},
   "outputs": [
    {
     "name": "stdout",
     "output_type": "stream",
     "text": [
      "                Device_ID               Event_Name          fecha_hora\n",
      "197263   6888746892508752         MainScreenAppear 2019-08-06 14:06:34\n",
      "209196   6909561520679493         MainScreenAppear 2019-08-06 18:52:54\n",
      "209199   6909561520679493  PaymentScreenSuccessful 2019-08-06 18:52:58\n",
      "209200   6909561520679493         CartScreenAppear 2019-08-06 18:52:58\n",
      "127670   6922444491712477         MainScreenAppear 2019-08-04 14:19:33\n",
      "127672   6922444491712477  PaymentScreenSuccessful 2019-08-04 14:19:40\n",
      "127673   6922444491712477         CartScreenAppear 2019-08-04 14:19:40\n",
      "147627   7435777799948366         MainScreenAppear 2019-08-05 08:06:34\n",
      "147648   7435777799948366         MainScreenAppear 2019-08-05 08:07:32\n",
      "147799   7435777799948366         MainScreenAppear 2019-08-05 08:13:29\n",
      "4580     7702139951469979         MainScreenAppear 2019-08-01 04:29:54\n",
      "4581     7702139951469979       OffersScreenAppear 2019-08-01 04:29:56\n",
      "4592     7702139951469979       OffersScreenAppear 2019-08-01 04:30:38\n",
      "142896   8486814028069281       OffersScreenAppear 2019-08-05 04:49:13\n",
      "142898   8486814028069281         CartScreenAppear 2019-08-05 04:49:18\n",
      "142906   8486814028069281         CartScreenAppear 2019-08-05 04:49:36\n",
      "49497    8740973466195562         MainScreenAppear 2019-08-02 09:16:48\n",
      "49522    8740973466195562         MainScreenAppear 2019-08-02 09:17:41\n",
      "49638    8740973466195562         MainScreenAppear 2019-08-02 09:21:27\n",
      "86464    9841258664663090                 Tutorial 2019-08-03 10:47:28\n",
      "86487    9841258664663090         MainScreenAppear 2019-08-03 10:47:59\n",
      "86539    9841258664663090       OffersScreenAppear 2019-08-03 10:49:42\n",
      "65660   12692216027168046         MainScreenAppear 2019-08-02 16:28:49\n",
      "65695   12692216027168046         MainScreenAppear 2019-08-02 16:29:49\n",
      "65943   12692216027168046         MainScreenAppear 2019-08-02 16:35:33\n",
      "5705    15708180189885246       OffersScreenAppear 2019-08-01 05:38:55\n",
      "15476   15708180189885246       OffersScreenAppear 2019-08-01 11:06:07\n",
      "15487   15708180189885246         CartScreenAppear 2019-08-01 11:06:19\n",
      "9396    18658818197810381       OffersScreenAppear 2019-08-01 08:00:42\n",
      "26405   18658818197810381         CartScreenAppear 2019-08-01 15:25:32\n"
     ]
    }
   ],
   "source": [
    "# Ordenar los eventos por fecha para cada usuario\n",
    "eventos_ordenados_por_usuario = event.sort_values(by=['Device_ID', 'fecha_hora'])\n",
    "\n",
    "# Mostrar los primeros eventos de algunos usuarios para observar el orden\n",
    "primeros_eventos_usuario = eventos_ordenados_por_usuario.groupby('Device_ID').head(3)\n",
    "print(primeros_eventos_usuario[['Device_ID', 'Event_Name', 'fecha_hora']].head(30))"
   ]
  },
  {
   "cell_type": "markdown",
   "metadata": {},
   "source": [
    "**Utiliza el embudo de eventos para encontrar la proporción de usuarios y usuarias que pasan de una etapa a la siguiente. (Por ejemplo, para la secuencia de eventos A → B → C, calcula la proporción de usuarios en la etapa B a la cantidad de usuarios en la etapa A y la proporción de usuarios en la etapa C a la cantidad en la etapa B).**"
   ]
  },
  {
   "cell_type": "code",
   "execution_count": 24,
   "metadata": {},
   "outputs": [
    {
     "name": "stdout",
     "output_type": "stream",
     "text": [
      "Proporción A → B: 0.6055921494824573\n",
      "Proporción B → C: 0.7996965098634294\n"
     ]
    }
   ],
   "source": [
    "# Definir la secuencia de eventos (A → B → C)\n",
    "evento_a = 'MainScreenAppear'\n",
    "evento_b = 'OffersScreenAppear'\n",
    "evento_c = 'CartScreenAppear'\n",
    "\n",
    "# Filtrar los usuarios que realizaron cada evento\n",
    "usuarios_a = event[event['Event_Name'] == evento_a]['Device_ID'].unique()\n",
    "usuarios_b = event[event['Event_Name'] == evento_b]['Device_ID'].unique()\n",
    "usuarios_c = event[event['Event_Name'] == evento_c]['Device_ID'].unique()\n",
    "\n",
    "# Calcular la proporción de usuarios que pasan de A → B → C\n",
    "proporcion_ab = len(set(usuarios_b) & set(usuarios_a)) / len(usuarios_a)\n",
    "proporcion_bc = len(set(usuarios_c) & set(usuarios_b)) / len(usuarios_b)\n",
    "\n",
    "print(f\"Proporción A → B: {proporcion_ab}\")\n",
    "print(f\"Proporción B → C: {proporcion_bc}\")"
   ]
  },
  {
   "cell_type": "markdown",
   "metadata": {},
   "source": [
    "**¿En qué etapa pierdes más usuarios y usuarias?**"
   ]
  },
  {
   "cell_type": "code",
   "execution_count": 25,
   "metadata": {},
   "outputs": [
    {
     "name": "stdout",
     "output_type": "stream",
     "text": [
      "Se pierden más usuarios entre A y B: 2934\n"
     ]
    }
   ],
   "source": [
    "# Calcular las pérdidas de usuarios entre las etapas\n",
    "perdidos_a_b = len(set(usuarios_a) - set(usuarios_b))\n",
    "perdidos_b_c = len(set(usuarios_b) - set(usuarios_c))\n",
    "\n",
    "# Imprimir la etapa en la que se pierden más usuarios\n",
    "if perdidos_a_b > perdidos_b_c:\n",
    "    print(f\"Se pierden más usuarios entre A y B: {perdidos_a_b}\")\n",
    "else:\n",
    "    print(f\"Se pierden más usuarios entre B y C: {perdidos_b_c}\")"
   ]
  },
  {
   "cell_type": "markdown",
   "metadata": {},
   "source": [
    "**¿Qué porcentaje de usuarios y usuarias hace todo el viaje desde su primer evento hasta el pago?**"
   ]
  },
  {
   "cell_type": "code",
   "execution_count": 26,
   "metadata": {},
   "outputs": [
    {
     "name": "stdout",
     "output_type": "stream",
     "text": [
      "Porcentaje de usuarios que completaron el viaje: 0.04%\n"
     ]
    }
   ],
   "source": [
    "# Definir los eventos clave\n",
    "eventos_clave = ['MainScreenAppear', 'Tutorial','OffersScreenAppear', 'CartScreenAppear', 'PaymentScreenSuccessful']\n",
    "\n",
    "# Filtrar los datos para incluir solo los eventos clave\n",
    "eventos_filtrados = event[event['Event_Name'].isin(eventos_clave)]\n",
    "\n",
    "# Ordenar los eventos por usuario y fecha\n",
    "eventos_ordenados = eventos_filtrados.sort_values(by=['Device_ID', 'fecha_hora'])\n",
    "\n",
    "# Para cada usuario, verificar si han completado todos los eventos en secuencia\n",
    "usuarios_completos = []\n",
    "\n",
    "for device_id, group in eventos_ordenados.groupby('Device_ID'):\n",
    "    eventos_usuario = group['Event_Name'].tolist()\n",
    "    \n",
    "    # Verificar si los eventos están en el orden correcto\n",
    "    if all(evento in eventos_usuario for evento in eventos_clave):\n",
    "        # Asegurarse de que los eventos ocurren en el orden correcto\n",
    "        if eventos_usuario.index(eventos_clave[0]) < eventos_usuario.index(eventos_clave[1]) < eventos_usuario.index(eventos_clave[2]) < eventos_usuario.index(eventos_clave[3]):\n",
    "            usuarios_completos.append(device_id)\n",
    "\n",
    "# Calcular el porcentaje de usuarios que completaron todo el viaje\n",
    "usuarios_totales = event['Device_ID'].nunique()\n",
    "porcentaje_completado = len(usuarios_completos) / usuarios_totales * 100\n",
    "\n",
    "# Mostrar el porcentaje de usuarios que completaron el viaje\n",
    "print(f\"Porcentaje de usuarios que completaron el viaje: {porcentaje_completado:.2f}%\")"
   ]
  },
  {
   "cell_type": "markdown",
   "metadata": {},
   "source": [
    "Si consideramos el orden de eventos como el siguiente: MainScreenAppear -> Tutorial -> OffersScreenAppear -> CartScreenAppear -> PaymentScreenSuccessful, solo el 0.04% de los usuarios hicieron el viaje completo.\n",
    "\n",
    "Como sabemos que no todos ven el tutorial, a continuación se muestra el mismo análisis pero sin considerar la etapa de \"Tutorial\"."
   ]
  },
  {
   "cell_type": "code",
   "execution_count": 27,
   "metadata": {},
   "outputs": [
    {
     "name": "stdout",
     "output_type": "stream",
     "text": [
      "Porcentaje de usuarios que completaron el viaje: 11.07%\n"
     ]
    }
   ],
   "source": [
    "# Definir los eventos clave\n",
    "eventos_clave = ['MainScreenAppear', 'OffersScreenAppear', 'CartScreenAppear', 'PaymentScreenSuccessful']\n",
    "\n",
    "# Filtrar los datos para incluir solo los eventos clave\n",
    "eventos_filtrados = event[event['Event_Name'].isin(eventos_clave)]\n",
    "\n",
    "# Ordenar los eventos por usuario y fecha\n",
    "eventos_ordenados = eventos_filtrados.sort_values(by=['Device_ID', 'fecha_hora'])\n",
    "\n",
    "# Para cada usuario, verificar si han completado todos los eventos en secuencia\n",
    "usuarios_completos = []\n",
    "\n",
    "for device_id, group in eventos_ordenados.groupby('Device_ID'):\n",
    "    eventos_usuario = group['Event_Name'].tolist()\n",
    "    \n",
    "    # Verificar si los eventos están en el orden correcto\n",
    "    if all(evento in eventos_usuario for evento in eventos_clave):\n",
    "        # Asegurarse de que los eventos ocurren en el orden correcto\n",
    "        if eventos_usuario.index(eventos_clave[0]) < eventos_usuario.index(eventos_clave[1]) < eventos_usuario.index(eventos_clave[2]) < eventos_usuario.index(eventos_clave[3]):\n",
    "            usuarios_completos.append(device_id)\n",
    "\n",
    "# Calcular el porcentaje de usuarios que completaron todo el viaje\n",
    "usuarios_totales = event['Device_ID'].nunique()\n",
    "porcentaje_completado = len(usuarios_completos) / usuarios_totales * 100\n",
    "\n",
    "# Mostrar el porcentaje de usuarios que completaron el viaje\n",
    "print(f\"Porcentaje de usuarios que completaron el viaje: {porcentaje_completado:.2f}%\")"
   ]
  },
  {
   "cell_type": "markdown",
   "metadata": {},
   "source": [
    "Si consideramos el orden de eventos como el siguiente: MainScreenAppear -> OffersScreenAppear -> CartScreenAppear -> PaymentScreenSuccessful, solo el 11.07% de los usuarios hicieron el viaje completo."
   ]
  },
  {
   "cell_type": "markdown",
   "metadata": {},
   "source": [
    "## Estudiar los resultados del experimento"
   ]
  },
  {
   "cell_type": "markdown",
   "metadata": {},
   "source": [
    "**¿Cuántos usuarios y usuarias hay en cada grupo?**"
   ]
  },
  {
   "cell_type": "code",
   "execution_count": 28,
   "metadata": {},
   "outputs": [
    {
     "name": "stdout",
     "output_type": "stream",
     "text": [
      "248    85747\n",
      "246    80304\n",
      "247    78075\n",
      "Name: Experiment_ID, dtype: int64\n"
     ]
    }
   ],
   "source": [
    "# Contar cuántos usuarios hay en cada grupo experimental\n",
    "usuarios_por_grupo = event['Experiment_ID'].value_counts()\n",
    "print(usuarios_por_grupo)"
   ]
  },
  {
   "cell_type": "code",
   "execution_count": 31,
   "metadata": {},
   "outputs": [
    {
     "name": "stdout",
     "output_type": "stream",
     "text": [
      "Usuarios y usuarias hay en cada grupo, \n",
      "   Experiment_ID  unique_users\n",
      "0            246          2489\n",
      "1            247          2520\n",
      "2            248          2542\n"
     ]
    }
   ],
   "source": [
    "user_counts = event.groupby('Experiment_ID')['Device_ID'].nunique().reset_index()\n",
    "user_counts.columns = ['Experiment_ID', 'unique_users']\n",
    "print(f'Usuarios y usuarias hay en cada grupo, \\n{user_counts}')"
   ]
  },
  {
   "cell_type": "markdown",
   "metadata": {},
   "source": [
    "**Tenemos dos grupos de control en el test A/A, donde comprobamos nuestros mecanismos y cálculos. Observa si hay una diferencia estadísticamente significativa entre las muestras 246 y 247.**"
   ]
  },
  {
   "cell_type": "code",
   "execution_count": 32,
   "metadata": {},
   "outputs": [
    {
     "name": "stdout",
     "output_type": "stream",
     "text": [
      "Valor p de la prueba t: 4.80453872580503e-25\n"
     ]
    }
   ],
   "source": [
    "from scipy import stats\n",
    "\n",
    "# Filtrar los datos para los dos grupos de control\n",
    "grupo_246 = event[event['Experiment_ID'] == 246]\n",
    "grupo_247 = event[event['Experiment_ID'] == 247]\n",
    "\n",
    "# Realizar la prueba t para comparar las medias\n",
    "t_stat, p_val = stats.ttest_ind(grupo_246['Device_ID'], grupo_247['Device_ID'])\n",
    "\n",
    "# Mostrar el valor p\n",
    "print(f\"Valor p de la prueba t: {p_val}\")"
   ]
  },
  {
   "cell_type": "markdown",
   "metadata": {},
   "source": [
    "Como el valor p es menor que el nivel de significancia (0.05), entonces hay una diferencia estadísticamente significativa entre los grupos 246 y 247."
   ]
  },
  {
   "cell_type": "markdown",
   "metadata": {},
   "source": [
    "**Selecciona el evento más popular. En cada uno de los grupos de control, encuentra la cantidad de usuarios y usuarias que realizaron esta acción. Encuentra su proporción. Comprueba si la diferencia entre los grupos es estadísticamente significativa. Repite el procedimiento para todos los demás eventos (ahorrarás tiempo si creas una función especial para esta prueba). ¿Puedes confirmar que los grupos se dividieron correctamente?**"
   ]
  },
  {
   "cell_type": "code",
   "execution_count": 33,
   "metadata": {},
   "outputs": [
    {
     "name": "stdout",
     "output_type": "stream",
     "text": [
      "0\n"
     ]
    }
   ],
   "source": [
    "# Verificar si hay valores nulos en la columna 'Event_Name'\n",
    "print(event['Event_Name'].isnull().sum())"
   ]
  },
  {
   "cell_type": "code",
   "execution_count": 34,
   "metadata": {},
   "outputs": [
    {
     "name": "stdout",
     "output_type": "stream",
     "text": [
      "MainScreenAppear           119205\n",
      "OffersScreenAppear          46825\n",
      "CartScreenAppear            42731\n",
      "PaymentScreenSuccessful     34313\n",
      "Tutorial                     1052\n",
      "Name: Event_Name, dtype: Int64\n",
      "Evento más popular: MainScreenAppear\n"
     ]
    }
   ],
   "source": [
    "# Contar la frecuencia de cada evento\n",
    "eventos_frecuencia = event['Event_Name'].value_counts()\n",
    "\n",
    "# Verificar la frecuencia de los eventos\n",
    "print(eventos_frecuencia)\n",
    "\n",
    "# Seleccionar el evento más popular sin idxmax()\n",
    "evento_popular = eventos_frecuencia.index[0]\n",
    "print(f\"Evento más popular: {evento_popular}\")"
   ]
  },
  {
   "cell_type": "markdown",
   "metadata": {},
   "source": [
    "**Luego, calculamos la cantidad de usuarios que realizaron este evento en cada grupo:**"
   ]
  },
  {
   "cell_type": "code",
   "execution_count": 35,
   "metadata": {},
   "outputs": [
    {
     "name": "stdout",
     "output_type": "stream",
     "text": [
      "Experiment_ID\n",
      "246    0.986742\n",
      "247    0.984921\n",
      "248    0.983871\n",
      "Name: Device_ID, dtype: float64\n"
     ]
    }
   ],
   "source": [
    "# Filtrar los datos para el evento más popular\n",
    "evento_popular_usuarios = event[event['Event_Name'] == evento_popular]\n",
    "\n",
    "# Contar usuarios por grupo para el evento popular\n",
    "usuarios_evento_popular = evento_popular_usuarios.groupby('Experiment_ID')['Device_ID'].nunique()\n",
    "\n",
    "# Calcular la proporción\n",
    "proporciones_evento = usuarios_evento_popular / event.groupby('Experiment_ID')['Device_ID'].nunique()\n",
    "print(proporciones_evento)"
   ]
  },
  {
   "cell_type": "markdown",
   "metadata": {},
   "source": [
    "**Comapramos si la diferencia entre los grupos es significativa, con una prueba de proporciones utilizando la función stats.proportions_ztest:**"
   ]
  },
  {
   "cell_type": "code",
   "execution_count": 36,
   "metadata": {},
   "outputs": [
    {
     "name": "stdout",
     "output_type": "stream",
     "text": [
      "Valor p de la prueba de proporciones: 0.5856639791209877\n"
     ]
    }
   ],
   "source": [
    "# Proporciones de usuarios que realizaron el evento\n",
    "grupo_246_popular = len(evento_popular_usuarios[evento_popular_usuarios['Experiment_ID'] == 246]['Device_ID'].unique())\n",
    "grupo_247_popular = len(evento_popular_usuarios[evento_popular_usuarios['Experiment_ID'] == 247]['Device_ID'].unique())\n",
    "\n",
    "# Realizar una prueba de proporciones\n",
    "count = [grupo_246_popular, grupo_247_popular]\n",
    "nobs = [event[event['Experiment_ID'] == 246]['Device_ID'].nunique(), event[event['Experiment_ID'] == 247]['Device_ID'].nunique()]\n",
    "z_stat, p_val = sm.stats.proportions_ztest(count, nobs)\n",
    "\n",
    "print(f\"Valor p de la prueba de proporciones: {p_val}\")"
   ]
  },
  {
   "cell_type": "markdown",
   "metadata": {},
   "source": [
    "**Haz lo mismo para el grupo con fuentes alteradas. Compara los resultados con los de cada uno de los grupos de control para cada evento de forma aislada. Compara los resultados con los resultados combinados de los grupos de control. ¿Qué conclusiones puedes sacar del experimento?**"
   ]
  },
  {
   "cell_type": "code",
   "execution_count": 37,
   "metadata": {},
   "outputs": [
    {
     "name": "stdout",
     "output_type": "stream",
     "text": [
      "Proporción para el evento MainScreenAppear:\n",
      "Experiment_ID\n",
      "246    0.986742\n",
      "247    0.984921\n",
      "248    0.983871\n",
      "Name: Device_ID, dtype: float64\n",
      "Valor p de la prueba para el evento MainScreenAppear: 0.5856639791209877\n",
      "-----\n",
      "Proporción para el evento PaymentScreenSuccessful:\n",
      "Experiment_ID\n",
      "246    0.482925\n",
      "247    0.460317\n",
      "248    0.466168\n",
      "Name: Device_ID, dtype: float64\n",
      "Valor p de la prueba para el evento PaymentScreenSuccessful: 0.10902546202332887\n",
      "-----\n",
      "Proporción para el evento CartScreenAppear:\n",
      "Experiment_ID\n",
      "246    0.510245\n",
      "247    0.492063\n",
      "248    0.487411\n",
      "Name: Device_ID, dtype: float64\n",
      "Valor p de la prueba para el evento CartScreenAppear: 0.19817540651836918\n",
      "-----\n",
      "Proporción para el evento OffersScreenAppear:\n",
      "Experiment_ID\n",
      "246    0.620731\n",
      "247    0.607143\n",
      "248    0.605035\n",
      "Name: Device_ID, dtype: float64\n",
      "Valor p de la prueba para el evento OffersScreenAppear: 0.3233225048227193\n",
      "-----\n",
      "Proporción para el evento Tutorial:\n",
      "Experiment_ID\n",
      "246    0.112093\n",
      "247    0.113492\n",
      "248    0.110936\n",
      "Name: Device_ID, dtype: float64\n",
      "Valor p de la prueba para el evento Tutorial: 0.8756574258016974\n",
      "-----\n"
     ]
    }
   ],
   "source": [
    "def prueba_evento_por_grupo(evento):\n",
    "    # Filtrar los datos para el evento\n",
    "    evento_usuarios = event[event['Event_Name'] == evento]\n",
    "    \n",
    "    # Contar usuarios por grupo\n",
    "    usuarios_evento = evento_usuarios.groupby('Experiment_ID')['Device_ID'].nunique()\n",
    "    \n",
    "    # Calcular proporciones\n",
    "    proporciones = usuarios_evento / event.groupby('Experiment_ID')['Device_ID'].nunique()\n",
    "    \n",
    "    # Comparar los grupos (por ejemplo, 246 vs 247) usando prueba de proporciones\n",
    "    grupo_246_evento = len(evento_usuarios[evento_usuarios['Experiment_ID'] == 246]['Device_ID'].unique())\n",
    "    grupo_247_evento = len(evento_usuarios[evento_usuarios['Experiment_ID'] == 247]['Device_ID'].unique())\n",
    "    \n",
    "    # Realizar una prueba de proporciones\n",
    "    count = [grupo_246_evento, grupo_247_evento]\n",
    "    nobs = [event[event['Experiment_ID'] == 246]['Device_ID'].nunique(), event[event['Experiment_ID'] == 247]['Device_ID'].nunique()]\n",
    "    z_stat, p_val = sm.stats.proportions_ztest(count, nobs)\n",
    "    \n",
    "    return proporciones, p_val\n",
    "\n",
    "# Probar para todos los eventos\n",
    "eventos = event['Event_Name'].unique()\n",
    "for evento in eventos:\n",
    "    proporciones, p_val = prueba_evento_por_grupo(evento)\n",
    "    print(f\"Proporción para el evento {evento}:\")\n",
    "    print(proporciones)\n",
    "    print(f\"Valor p de la prueba para el evento {evento}: {p_val}\")\n",
    "    print(\"-----\")"
   ]
  },
  {
   "cell_type": "markdown",
   "metadata": {},
   "source": [
    "Los análisis muestran que no hay diferencias importantes entre los grupos en cuanto a los eventos clave que realizaron los usuarios, como ver la pantalla principal, ver ofertas, agregar productos al carrito, realizar un pago o completar el tutorial. Las diferencias son pequeñas y no son estadísticamente relevantes, lo que sugiere que los grupos están equilibrados y no hay sesgo en cómo se distribuyeron los usuarios. Esto indica que los resultados del experimento son confiables y que los grupos fueron divididos de manera adecuada."
   ]
  },
  {
   "cell_type": "markdown",
   "metadata": {},
   "source": [
    "**¿Qué nivel de significación has establecido para probar las hipótesis estadísticas mencionadas anteriormente? Calcula cuántas pruebas de hipótesis estadísticas has realizado.**"
   ]
  },
  {
   "cell_type": "markdown",
   "metadata": {},
   "source": [
    "El nivel de significación que use fue de 0.05"
   ]
  }
 ],
 "metadata": {
  "ExecuteTimeLog": [
   {
    "duration": 2580,
    "start_time": "2025-01-20T18:41:14.412Z"
   },
   {
    "duration": 19,
    "start_time": "2025-01-20T18:41:22.312Z"
   },
   {
    "duration": 229,
    "start_time": "2025-01-20T18:42:21.396Z"
   },
   {
    "duration": 251,
    "start_time": "2025-01-20T18:42:26.852Z"
   },
   {
    "duration": 196,
    "start_time": "2025-01-20T18:44:35.960Z"
   },
   {
    "duration": 185,
    "start_time": "2025-01-20T18:44:55.964Z"
   },
   {
    "duration": 5,
    "start_time": "2025-01-20T18:45:12.246Z"
   },
   {
    "duration": 104,
    "start_time": "2025-01-20T18:45:21.969Z"
   },
   {
    "duration": 9,
    "start_time": "2025-01-20T18:45:22.989Z"
   },
   {
    "duration": 35,
    "start_time": "2025-01-20T18:46:11.249Z"
   },
   {
    "duration": 5,
    "start_time": "2025-01-20T18:50:56.138Z"
   },
   {
    "duration": 7,
    "start_time": "2025-01-20T18:51:11.170Z"
   },
   {
    "duration": 6,
    "start_time": "2025-01-20T18:51:23.683Z"
   },
   {
    "duration": 6,
    "start_time": "2025-01-20T18:51:43.661Z"
   },
   {
    "duration": 891,
    "start_time": "2025-01-20T18:51:55.738Z"
   },
   {
    "duration": 168,
    "start_time": "2025-01-20T18:51:56.632Z"
   },
   {
    "duration": 48,
    "start_time": "2025-01-20T18:51:56.802Z"
   },
   {
    "duration": 10,
    "start_time": "2025-01-20T18:51:56.852Z"
   },
   {
    "duration": 799,
    "start_time": "2025-01-20T18:52:25.432Z"
   },
   {
    "duration": 101,
    "start_time": "2025-01-20T18:52:26.233Z"
   },
   {
    "duration": 49,
    "start_time": "2025-01-20T18:52:26.335Z"
   },
   {
    "duration": 9,
    "start_time": "2025-01-20T18:52:26.385Z"
   },
   {
    "duration": 4,
    "start_time": "2025-01-20T18:53:58.689Z"
   },
   {
    "duration": 172,
    "start_time": "2025-01-20T18:55:44.692Z"
   },
   {
    "duration": 15,
    "start_time": "2025-01-20T18:57:09.417Z"
   },
   {
    "duration": 9,
    "start_time": "2025-01-20T18:58:22.612Z"
   },
   {
    "duration": 844,
    "start_time": "2025-01-20T19:00:27.102Z"
   },
   {
    "duration": 47,
    "start_time": "2025-01-20T19:00:35.126Z"
   },
   {
    "duration": 11,
    "start_time": "2025-01-20T19:00:45.098Z"
   },
   {
    "duration": 22,
    "start_time": "2025-01-20T19:01:13.022Z"
   },
   {
    "duration": 5,
    "start_time": "2025-01-20T19:01:33.229Z"
   },
   {
    "duration": 14,
    "start_time": "2025-01-20T19:03:00.190Z"
   },
   {
    "duration": 16,
    "start_time": "2025-01-20T19:18:13.009Z"
   },
   {
    "duration": 4,
    "start_time": "2025-01-20T19:18:14.367Z"
   },
   {
    "duration": 7,
    "start_time": "2025-01-20T19:18:16.268Z"
   },
   {
    "duration": 10,
    "start_time": "2025-01-20T19:20:16.028Z"
   },
   {
    "duration": 3,
    "start_time": "2025-01-20T19:20:16.642Z"
   },
   {
    "duration": 8,
    "start_time": "2025-01-20T19:20:17.270Z"
   },
   {
    "duration": 50,
    "start_time": "2025-01-20T19:21:45.690Z"
   },
   {
    "duration": 17,
    "start_time": "2025-01-20T19:21:56.753Z"
   },
   {
    "duration": 5,
    "start_time": "2025-01-20T19:21:58.104Z"
   },
   {
    "duration": 8,
    "start_time": "2025-01-20T19:21:59.625Z"
   },
   {
    "duration": 24,
    "start_time": "2025-01-20T19:22:11.823Z"
   },
   {
    "duration": 4,
    "start_time": "2025-01-20T19:22:12.369Z"
   },
   {
    "duration": 7,
    "start_time": "2025-01-20T19:22:12.864Z"
   },
   {
    "duration": 24,
    "start_time": "2025-01-20T19:24:55.621Z"
   },
   {
    "duration": 4,
    "start_time": "2025-01-20T19:24:56.321Z"
   },
   {
    "duration": 8,
    "start_time": "2025-01-20T19:24:57.164Z"
   },
   {
    "duration": 19,
    "start_time": "2025-01-20T19:29:18.542Z"
   },
   {
    "duration": 4,
    "start_time": "2025-01-20T19:29:19.275Z"
   },
   {
    "duration": 7,
    "start_time": "2025-01-20T19:29:21.827Z"
   },
   {
    "duration": 27,
    "start_time": "2025-01-20T19:30:04.968Z"
   },
   {
    "duration": 4,
    "start_time": "2025-01-20T19:30:05.486Z"
   },
   {
    "duration": 8,
    "start_time": "2025-01-20T19:30:06.295Z"
   },
   {
    "duration": 94,
    "start_time": "2025-01-20T19:30:19.706Z"
   },
   {
    "duration": 4,
    "start_time": "2025-01-20T19:30:20.171Z"
   },
   {
    "duration": 869,
    "start_time": "2025-01-20T19:30:32.877Z"
   },
   {
    "duration": 132,
    "start_time": "2025-01-20T19:30:33.748Z"
   },
   {
    "duration": 43,
    "start_time": "2025-01-20T19:30:33.882Z"
   },
   {
    "duration": 19,
    "start_time": "2025-01-20T19:30:33.928Z"
   },
   {
    "duration": 4,
    "start_time": "2025-01-20T19:30:33.950Z"
   },
   {
    "duration": 20,
    "start_time": "2025-01-20T19:30:33.957Z"
   },
   {
    "duration": 4,
    "start_time": "2025-01-20T19:30:33.978Z"
   },
   {
    "duration": 9,
    "start_time": "2025-01-20T19:30:33.984Z"
   },
   {
    "duration": 9,
    "start_time": "2025-01-20T19:30:33.995Z"
   },
   {
    "duration": 6,
    "start_time": "2025-01-20T19:32:14.111Z"
   },
   {
    "duration": 12,
    "start_time": "2025-01-20T19:32:32.907Z"
   },
   {
    "duration": 10,
    "start_time": "2025-01-20T19:34:19.994Z"
   },
   {
    "duration": 103,
    "start_time": "2025-01-20T19:34:53.233Z"
   },
   {
    "duration": 86,
    "start_time": "2025-01-20T19:35:23.225Z"
   },
   {
    "duration": 50,
    "start_time": "2025-01-20T19:36:07.104Z"
   },
   {
    "duration": 791,
    "start_time": "2025-01-20T19:36:18.941Z"
   },
   {
    "duration": 98,
    "start_time": "2025-01-20T19:36:19.734Z"
   },
   {
    "duration": 49,
    "start_time": "2025-01-20T19:36:19.834Z"
   },
   {
    "duration": 7,
    "start_time": "2025-01-20T19:36:19.885Z"
   },
   {
    "duration": 4,
    "start_time": "2025-01-20T19:36:19.893Z"
   },
   {
    "duration": 19,
    "start_time": "2025-01-20T19:36:19.899Z"
   },
   {
    "duration": 25,
    "start_time": "2025-01-20T19:36:19.919Z"
   },
   {
    "duration": 11,
    "start_time": "2025-01-20T19:36:19.945Z"
   },
   {
    "duration": 762,
    "start_time": "2025-01-20T19:36:19.958Z"
   },
   {
    "duration": 55,
    "start_time": "2025-01-20T19:36:58.640Z"
   },
   {
    "duration": 59,
    "start_time": "2025-01-20T19:37:32.772Z"
   },
   {
    "duration": 2,
    "start_time": "2025-01-20T19:46:18.010Z"
   },
   {
    "duration": 8,
    "start_time": "2025-01-20T19:46:32.102Z"
   },
   {
    "duration": 9,
    "start_time": "2025-01-20T19:46:45.662Z"
   },
   {
    "duration": 11,
    "start_time": "2025-01-20T19:48:14.301Z"
   },
   {
    "duration": 10,
    "start_time": "2025-01-20T19:48:38.319Z"
   },
   {
    "duration": 3,
    "start_time": "2025-01-20T19:50:17.372Z"
   },
   {
    "duration": 6,
    "start_time": "2025-01-20T19:50:28.263Z"
   },
   {
    "duration": 7,
    "start_time": "2025-01-20T19:50:37.533Z"
   },
   {
    "duration": 12,
    "start_time": "2025-01-20T19:50:51.057Z"
   },
   {
    "duration": 307,
    "start_time": "2025-01-20T19:51:12.456Z"
   },
   {
    "duration": 19,
    "start_time": "2025-01-20T19:51:53.382Z"
   },
   {
    "duration": 65,
    "start_time": "2025-01-20T19:53:10.864Z"
   },
   {
    "duration": 41,
    "start_time": "2025-01-20T19:53:23.999Z"
   },
   {
    "duration": 13,
    "start_time": "2025-01-20T19:53:33.771Z"
   },
   {
    "duration": 38,
    "start_time": "2025-01-20T19:53:51.770Z"
   },
   {
    "duration": 20,
    "start_time": "2025-01-20T19:54:41.576Z"
   },
   {
    "duration": 4,
    "start_time": "2025-01-20T19:55:06.942Z"
   },
   {
    "duration": 4,
    "start_time": "2025-01-20T19:55:21.296Z"
   },
   {
    "duration": 4,
    "start_time": "2025-01-20T19:55:59.739Z"
   },
   {
    "duration": 25,
    "start_time": "2025-01-20T19:56:44.719Z"
   },
   {
    "duration": 20,
    "start_time": "2025-01-20T20:01:50.545Z"
   },
   {
    "duration": 49,
    "start_time": "2025-01-20T20:02:01.946Z"
   },
   {
    "duration": 4,
    "start_time": "2025-01-20T20:02:25.974Z"
   },
   {
    "duration": 91,
    "start_time": "2025-01-20T20:02:49.861Z"
   },
   {
    "duration": 50,
    "start_time": "2025-01-20T20:03:31.414Z"
   },
   {
    "duration": 14,
    "start_time": "2025-01-20T20:05:22.087Z"
   },
   {
    "duration": 48,
    "start_time": "2025-01-20T20:05:39.276Z"
   },
   {
    "duration": 4,
    "start_time": "2025-01-20T20:05:58.587Z"
   },
   {
    "duration": 81,
    "start_time": "2025-01-20T20:08:36.820Z"
   },
   {
    "duration": 96,
    "start_time": "2025-01-20T20:08:45.190Z"
   },
   {
    "duration": 99,
    "start_time": "2025-01-20T20:09:04.104Z"
   },
   {
    "duration": 88,
    "start_time": "2025-01-20T20:09:12.098Z"
   },
   {
    "duration": 92,
    "start_time": "2025-01-20T20:10:01.310Z"
   },
   {
    "duration": 107,
    "start_time": "2025-01-20T20:13:27.541Z"
   },
   {
    "duration": 103,
    "start_time": "2025-01-20T20:13:33.098Z"
   },
   {
    "duration": 88,
    "start_time": "2025-01-20T20:13:43.346Z"
   },
   {
    "duration": 106,
    "start_time": "2025-01-20T20:15:08.949Z"
   },
   {
    "duration": 123,
    "start_time": "2025-01-20T20:15:33.433Z"
   },
   {
    "duration": 94,
    "start_time": "2025-01-20T20:15:47.518Z"
   },
   {
    "duration": 87,
    "start_time": "2025-01-20T20:15:58.911Z"
   },
   {
    "duration": 87,
    "start_time": "2025-01-20T20:16:03.508Z"
   },
   {
    "duration": 87,
    "start_time": "2025-01-20T20:16:14.427Z"
   },
   {
    "duration": 57,
    "start_time": "2025-01-20T20:18:57.023Z"
   },
   {
    "duration": 6,
    "start_time": "2025-01-20T20:19:49.847Z"
   },
   {
    "duration": 749,
    "start_time": "2025-01-20T20:20:08.124Z"
   },
   {
    "duration": 890,
    "start_time": "2025-01-20T20:24:48.855Z"
   },
   {
    "duration": 857,
    "start_time": "2025-01-20T20:25:49.657Z"
   },
   {
    "duration": 848,
    "start_time": "2025-01-20T20:28:34.269Z"
   },
   {
    "duration": 5,
    "start_time": "2025-01-20T20:31:49.387Z"
   },
   {
    "duration": 15,
    "start_time": "2025-01-20T20:32:06.462Z"
   },
   {
    "duration": 177,
    "start_time": "2025-01-20T20:33:08.381Z"
   },
   {
    "duration": 10,
    "start_time": "2025-01-20T20:34:12.295Z"
   },
   {
    "duration": 42,
    "start_time": "2025-01-20T20:34:20.704Z"
   },
   {
    "duration": 45,
    "start_time": "2025-01-20T20:35:29.179Z"
   },
   {
    "duration": 19,
    "start_time": "2025-01-20T20:35:37.849Z"
   },
   {
    "duration": 49,
    "start_time": "2025-01-20T20:36:09.748Z"
   },
   {
    "duration": 47,
    "start_time": "2025-01-20T20:36:35.674Z"
   },
   {
    "duration": 33,
    "start_time": "2025-01-20T20:37:59.501Z"
   },
   {
    "duration": 2,
    "start_time": "2025-01-20T20:38:46.422Z"
   },
   {
    "duration": 33,
    "start_time": "2025-01-20T20:38:50.317Z"
   },
   {
    "duration": 3,
    "start_time": "2025-01-20T20:39:09.022Z"
   },
   {
    "duration": 1993,
    "start_time": "2025-01-20T20:39:21.673Z"
   },
   {
    "duration": 43,
    "start_time": "2025-01-20T20:39:31.709Z"
   },
   {
    "duration": 1915,
    "start_time": "2025-01-20T20:39:49.329Z"
   },
   {
    "duration": 898,
    "start_time": "2025-01-20T20:39:51.246Z"
   },
   {
    "duration": 106,
    "start_time": "2025-01-20T20:39:52.146Z"
   },
   {
    "duration": 44,
    "start_time": "2025-01-20T20:39:52.255Z"
   },
   {
    "duration": 9,
    "start_time": "2025-01-20T20:39:52.300Z"
   },
   {
    "duration": 4,
    "start_time": "2025-01-20T20:39:52.312Z"
   },
   {
    "duration": 36,
    "start_time": "2025-01-20T20:39:52.318Z"
   },
   {
    "duration": 3,
    "start_time": "2025-01-20T20:39:52.356Z"
   },
   {
    "duration": 10,
    "start_time": "2025-01-20T20:39:52.361Z"
   },
   {
    "duration": 79,
    "start_time": "2025-01-20T20:39:52.374Z"
   },
   {
    "duration": 3,
    "start_time": "2025-01-20T20:39:52.456Z"
   },
   {
    "duration": 7,
    "start_time": "2025-01-20T20:39:52.461Z"
   },
   {
    "duration": 8,
    "start_time": "2025-01-20T20:39:52.469Z"
   },
   {
    "duration": 12,
    "start_time": "2025-01-20T20:39:52.479Z"
   },
   {
    "duration": 413,
    "start_time": "2025-01-20T20:39:52.494Z"
   },
   {
    "duration": 20,
    "start_time": "2025-01-20T20:39:52.909Z"
   },
   {
    "duration": 247,
    "start_time": "2025-01-20T20:39:52.931Z"
   },
   {
    "duration": 0,
    "start_time": "2025-01-20T20:39:53.180Z"
   },
   {
    "duration": 0,
    "start_time": "2025-01-20T20:39:53.181Z"
   },
   {
    "duration": 0,
    "start_time": "2025-01-20T20:39:53.183Z"
   },
   {
    "duration": 0,
    "start_time": "2025-01-20T20:39:53.184Z"
   },
   {
    "duration": 0,
    "start_time": "2025-01-20T20:39:53.185Z"
   },
   {
    "duration": 0,
    "start_time": "2025-01-20T20:39:53.186Z"
   },
   {
    "duration": 0,
    "start_time": "2025-01-20T20:39:53.187Z"
   },
   {
    "duration": 0,
    "start_time": "2025-01-20T20:39:53.188Z"
   },
   {
    "duration": 0,
    "start_time": "2025-01-20T20:39:53.190Z"
   },
   {
    "duration": 0,
    "start_time": "2025-01-20T20:39:53.191Z"
   },
   {
    "duration": 0,
    "start_time": "2025-01-20T20:39:53.192Z"
   },
   {
    "duration": 0,
    "start_time": "2025-01-20T20:39:53.193Z"
   },
   {
    "duration": 0,
    "start_time": "2025-01-20T20:39:53.194Z"
   },
   {
    "duration": 0,
    "start_time": "2025-01-20T20:39:53.195Z"
   },
   {
    "duration": 0,
    "start_time": "2025-01-20T20:39:53.197Z"
   },
   {
    "duration": 0,
    "start_time": "2025-01-20T20:39:53.198Z"
   },
   {
    "duration": 1997,
    "start_time": "2025-01-20T21:21:10.270Z"
   },
   {
    "duration": 2629,
    "start_time": "2025-01-20T21:21:12.270Z"
   },
   {
    "duration": 129,
    "start_time": "2025-01-20T21:21:14.902Z"
   },
   {
    "duration": 43,
    "start_time": "2025-01-20T21:21:15.033Z"
   },
   {
    "duration": 8,
    "start_time": "2025-01-20T21:21:15.078Z"
   },
   {
    "duration": 4,
    "start_time": "2025-01-20T21:21:15.087Z"
   },
   {
    "duration": 16,
    "start_time": "2025-01-20T21:21:15.093Z"
   },
   {
    "duration": 3,
    "start_time": "2025-01-20T21:21:15.110Z"
   },
   {
    "duration": 11,
    "start_time": "2025-01-20T21:21:15.143Z"
   },
   {
    "duration": 67,
    "start_time": "2025-01-20T21:21:15.158Z"
   },
   {
    "duration": 3,
    "start_time": "2025-01-20T21:21:15.243Z"
   },
   {
    "duration": 6,
    "start_time": "2025-01-20T21:21:15.248Z"
   },
   {
    "duration": 8,
    "start_time": "2025-01-20T21:21:15.256Z"
   },
   {
    "duration": 10,
    "start_time": "2025-01-20T21:21:15.266Z"
   },
   {
    "duration": 374,
    "start_time": "2025-01-20T21:21:15.278Z"
   },
   {
    "duration": 19,
    "start_time": "2025-01-20T21:21:15.654Z"
   },
   {
    "duration": 243,
    "start_time": "2025-01-20T21:21:15.675Z"
   },
   {
    "duration": 0,
    "start_time": "2025-01-20T21:21:15.920Z"
   },
   {
    "duration": 0,
    "start_time": "2025-01-20T21:21:15.921Z"
   },
   {
    "duration": 0,
    "start_time": "2025-01-20T21:21:15.923Z"
   },
   {
    "duration": 0,
    "start_time": "2025-01-20T21:21:15.924Z"
   },
   {
    "duration": 0,
    "start_time": "2025-01-20T21:21:15.926Z"
   },
   {
    "duration": 1,
    "start_time": "2025-01-20T21:21:15.926Z"
   },
   {
    "duration": 0,
    "start_time": "2025-01-20T21:21:15.928Z"
   },
   {
    "duration": 0,
    "start_time": "2025-01-20T21:21:15.943Z"
   },
   {
    "duration": 0,
    "start_time": "2025-01-20T21:21:15.945Z"
   },
   {
    "duration": 0,
    "start_time": "2025-01-20T21:21:15.948Z"
   },
   {
    "duration": 0,
    "start_time": "2025-01-20T21:21:15.949Z"
   },
   {
    "duration": 0,
    "start_time": "2025-01-20T21:21:15.951Z"
   },
   {
    "duration": 0,
    "start_time": "2025-01-20T21:21:15.953Z"
   },
   {
    "duration": 0,
    "start_time": "2025-01-20T21:21:15.954Z"
   },
   {
    "duration": 0,
    "start_time": "2025-01-20T21:21:15.956Z"
   },
   {
    "duration": 0,
    "start_time": "2025-01-20T21:21:15.957Z"
   },
   {
    "duration": 242,
    "start_time": "2025-01-20T21:23:13.692Z"
   },
   {
    "duration": 1912,
    "start_time": "2025-01-20T21:24:07.437Z"
   },
   {
    "duration": 3,
    "start_time": "2025-01-20T21:24:09.352Z"
   },
   {
    "duration": 129,
    "start_time": "2025-01-20T21:24:09.428Z"
   },
   {
    "duration": 34,
    "start_time": "2025-01-20T21:24:12.472Z"
   },
   {
    "duration": 8,
    "start_time": "2025-01-20T21:24:13.962Z"
   },
   {
    "duration": 3,
    "start_time": "2025-01-20T21:24:15.680Z"
   },
   {
    "duration": 14,
    "start_time": "2025-01-20T21:24:16.363Z"
   },
   {
    "duration": 4,
    "start_time": "2025-01-20T21:24:17.045Z"
   },
   {
    "duration": 11,
    "start_time": "2025-01-20T21:24:18.241Z"
   },
   {
    "duration": 59,
    "start_time": "2025-01-20T21:24:20.002Z"
   },
   {
    "duration": 3,
    "start_time": "2025-01-20T21:24:22.112Z"
   },
   {
    "duration": 7,
    "start_time": "2025-01-20T21:24:23.255Z"
   },
   {
    "duration": 8,
    "start_time": "2025-01-20T21:24:24.314Z"
   },
   {
    "duration": 10,
    "start_time": "2025-01-20T21:24:25.491Z"
   },
   {
    "duration": 340,
    "start_time": "2025-01-20T21:24:26.622Z"
   },
   {
    "duration": 20,
    "start_time": "2025-01-20T21:24:28.392Z"
   },
   {
    "duration": 43,
    "start_time": "2025-01-20T21:24:30.820Z"
   },
   {
    "duration": 14,
    "start_time": "2025-01-20T21:24:32.181Z"
   },
   {
    "duration": 15,
    "start_time": "2025-01-20T21:24:34.583Z"
   },
   {
    "duration": 18,
    "start_time": "2025-01-20T21:24:37.027Z"
   },
   {
    "duration": 45,
    "start_time": "2025-01-20T21:24:38.260Z"
   },
   {
    "duration": 3,
    "start_time": "2025-01-20T21:24:38.774Z"
   },
   {
    "duration": 98,
    "start_time": "2025-01-20T21:24:39.763Z"
   },
   {
    "duration": 57,
    "start_time": "2025-01-20T21:24:40.738Z"
   },
   {
    "duration": 6,
    "start_time": "2025-01-20T21:24:41.608Z"
   },
   {
    "duration": 900,
    "start_time": "2025-01-20T21:24:42.378Z"
   },
   {
    "duration": 875,
    "start_time": "2025-01-20T21:24:43.281Z"
   },
   {
    "duration": 6,
    "start_time": "2025-01-20T21:24:45.005Z"
   },
   {
    "duration": 15,
    "start_time": "2025-01-20T21:24:45.938Z"
   },
   {
    "duration": 10,
    "start_time": "2025-01-20T21:24:47.390Z"
   },
   {
    "duration": 19,
    "start_time": "2025-01-20T21:24:47.824Z"
   },
   {
    "duration": 53,
    "start_time": "2025-01-20T21:24:49.049Z"
   },
   {
    "duration": 33,
    "start_time": "2025-01-20T21:24:52.010Z"
   },
   {
    "duration": 222,
    "start_time": "2025-01-20T21:25:40.577Z"
   },
   {
    "duration": 17,
    "start_time": "2025-01-20T21:26:31.425Z"
   },
   {
    "duration": 15,
    "start_time": "2025-01-20T21:26:49.971Z"
   },
   {
    "duration": 1865,
    "start_time": "2025-01-20T21:27:34.868Z"
   },
   {
    "duration": 3,
    "start_time": "2025-01-20T21:27:36.736Z"
   },
   {
    "duration": 40,
    "start_time": "2025-01-20T21:27:40.754Z"
   },
   {
    "duration": 152,
    "start_time": "2025-01-20T21:28:43.537Z"
   },
   {
    "duration": 21,
    "start_time": "2025-01-20T21:29:02.734Z"
   },
   {
    "duration": 131,
    "start_time": "2025-01-20T21:29:49.050Z"
   },
   {
    "duration": 247,
    "start_time": "2025-01-20T21:30:05.381Z"
   },
   {
    "duration": 4,
    "start_time": "2025-01-20T21:36:24.542Z"
   },
   {
    "duration": 6,
    "start_time": "2025-01-20T21:39:32.553Z"
   },
   {
    "duration": 39,
    "start_time": "2025-01-20T21:45:26.171Z"
   },
   {
    "duration": 14,
    "start_time": "2025-01-20T21:48:41.639Z"
   },
   {
    "duration": 72,
    "start_time": "2025-01-20T21:49:58.797Z"
   },
   {
    "duration": 25,
    "start_time": "2025-01-20T21:50:45.342Z"
   },
   {
    "duration": 5,
    "start_time": "2025-01-20T21:51:55.423Z"
   },
   {
    "duration": 15,
    "start_time": "2025-01-20T21:52:59.534Z"
   },
   {
    "duration": 1964,
    "start_time": "2025-01-21T10:32:40.365Z"
   },
   {
    "duration": 971,
    "start_time": "2025-01-21T10:32:42.331Z"
   },
   {
    "duration": 378,
    "start_time": "2025-01-21T10:32:43.304Z"
   },
   {
    "duration": 34,
    "start_time": "2025-01-21T10:32:44.530Z"
   },
   {
    "duration": 7,
    "start_time": "2025-01-21T10:32:46.211Z"
   },
   {
    "duration": 3,
    "start_time": "2025-01-21T10:32:47.105Z"
   },
   {
    "duration": 13,
    "start_time": "2025-01-21T10:32:47.345Z"
   },
   {
    "duration": 4,
    "start_time": "2025-01-21T10:32:49.133Z"
   },
   {
    "duration": 11,
    "start_time": "2025-01-21T10:32:49.819Z"
   },
   {
    "duration": 58,
    "start_time": "2025-01-21T10:33:18.781Z"
   },
   {
    "duration": 4,
    "start_time": "2025-01-21T10:33:24.656Z"
   },
   {
    "duration": 6,
    "start_time": "2025-01-21T10:33:25.308Z"
   },
   {
    "duration": 7,
    "start_time": "2025-01-21T10:33:27.797Z"
   },
   {
    "duration": 10,
    "start_time": "2025-01-21T10:33:30.085Z"
   },
   {
    "duration": 315,
    "start_time": "2025-01-21T10:33:31.679Z"
   },
   {
    "duration": 18,
    "start_time": "2025-01-21T10:34:18.773Z"
   },
   {
    "duration": 65,
    "start_time": "2025-01-21T10:35:15.270Z"
   },
   {
    "duration": 66,
    "start_time": "2025-01-21T10:35:16.408Z"
   },
   {
    "duration": 241,
    "start_time": "2025-01-21T10:35:43.902Z"
   },
   {
    "duration": 19,
    "start_time": "2025-01-21T10:37:23.285Z"
   },
   {
    "duration": 51,
    "start_time": "2025-01-21T10:37:40.822Z"
   },
   {
    "duration": 3,
    "start_time": "2025-01-21T10:37:44.276Z"
   },
   {
    "duration": 92,
    "start_time": "2025-01-21T10:38:01.454Z"
   },
   {
    "duration": 55,
    "start_time": "2025-01-21T10:38:11.822Z"
   },
   {
    "duration": 5,
    "start_time": "2025-01-21T10:38:42.466Z"
   },
   {
    "duration": 846,
    "start_time": "2025-01-21T10:38:47.359Z"
   },
   {
    "duration": 872,
    "start_time": "2025-01-21T10:39:10.042Z"
   },
   {
    "duration": 4,
    "start_time": "2025-01-21T10:39:49.416Z"
   },
   {
    "duration": 345,
    "start_time": "2025-01-21T10:40:32.292Z"
   },
   {
    "duration": 12,
    "start_time": "2025-01-21T10:40:42.564Z"
   },
   {
    "duration": 22,
    "start_time": "2025-01-21T10:41:07.530Z"
   },
   {
    "duration": 14,
    "start_time": "2025-01-21T10:43:18.986Z"
   },
   {
    "duration": 10,
    "start_time": "2025-01-21T10:44:05.705Z"
   },
   {
    "duration": 18,
    "start_time": "2025-01-21T10:44:06.449Z"
   },
   {
    "duration": 50,
    "start_time": "2025-01-21T10:44:21.091Z"
   },
   {
    "duration": 23,
    "start_time": "2025-01-21T10:44:26.253Z"
   },
   {
    "duration": 263,
    "start_time": "2025-01-21T10:44:31.268Z"
   }
  ],
  "kernelspec": {
   "display_name": "Python 3 (ipykernel)",
   "language": "python",
   "name": "python3"
  },
  "language_info": {
   "codemirror_mode": {
    "name": "ipython",
    "version": 3
   },
   "file_extension": ".py",
   "mimetype": "text/x-python",
   "name": "python",
   "nbconvert_exporter": "python",
   "pygments_lexer": "ipython3",
   "version": "3.9.19"
  },
  "toc": {
   "base_numbering": 1,
   "nav_menu": {},
   "number_sections": true,
   "sideBar": true,
   "skip_h1_title": true,
   "title_cell": "Table of Contents",
   "title_sidebar": "Contents",
   "toc_cell": false,
   "toc_position": {},
   "toc_section_display": true,
   "toc_window_display": false
  }
 },
 "nbformat": 4,
 "nbformat_minor": 2
}
